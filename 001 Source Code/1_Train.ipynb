{
 "cells": [
  {
   "cell_type": "code",
   "execution_count": 5,
   "metadata": {},
   "outputs": [
    {
     "name": "stdout",
     "output_type": "stream",
     "text": [
      "[name: \"/device:CPU:0\"\n",
      "device_type: \"CPU\"\n",
      "memory_limit: 268435456\n",
      "locality {\n",
      "}\n",
      "incarnation: 7768938588962331472\n",
      ", name: \"/device:GPU:0\"\n",
      "device_type: \"GPU\"\n",
      "memory_limit: 9877585920\n",
      "locality {\n",
      "  bus_id: 1\n",
      "  links {\n",
      "  }\n",
      "}\n",
      "incarnation: 3978570745726937452\n",
      "physical_device_desc: \"device: 0, name: NVIDIA GeForce RTX 3080 Ti, pci bus id: 0000:07:00.0, compute capability: 8.6\"\n",
      "]\n",
      "1 Physical GPUs, 1 Logical GPUs\n"
     ]
    }
   ],
   "source": [
    "import tensorflow as tf\n",
    "from tensorflow.keras import layers\n",
    "from tensorflow.keras import models\n",
    "from tensorflow import keras\n",
    "from tensorflow.keras.layers import Conv2D, MaxPool2D, Dense, Flatten, Input, Dropout, BatchNormalization, Activation, Add, GlobalAveragePooling2D, Softmax\n",
    "from tensorflow.keras.models import Sequential, Model\n",
    "from tensorflow.keras.optimizers import Adam, SGD, Adagrad\n",
    "from tensorflow.keras.callbacks import EarlyStopping, ModelCheckpoint\n",
    "from tensorflow.python.client import device_lib\n",
    "import matplotlib.pyplot as plt\n",
    "import scipy.io as scipy\n",
    "import numpy as np\n",
    "import pandas as pd\n",
    "import math\n",
    "import h5py\n",
    "import pickle\n",
    "\n",
    "print(device_lib.list_local_devices())\n",
    "\n",
    "gpus = tf.config.experimental.list_physical_devices('GPU')\n",
    "if gpus:\n",
    "    try:\n",
    "        for gpu in gpus:\n",
    "            tf.config.experimental.set_memory_growth(gpu, True)\n",
    "        logical_gpus = tf.config.experimental.list_logical_devices('GPU')\n",
    "        print(len(gpus), \"Physical GPUs,\", len(logical_gpus), \"Logical GPUs\")\n",
    "    except RuntimeError as e:\n",
    "        print(e)"
   ]
  },
  {
   "cell_type": "markdown",
   "metadata": {},
   "source": [
    "# Train data load"
   ]
  },
  {
   "cell_type": "code",
   "execution_count": 11,
   "metadata": {},
   "outputs": [],
   "source": [
    "N_node=4\n",
    "Bound=1\n",
    "N=math.comb(N_node,2)\n",
    "train_data =h5py.File('./trainset.mat','r')\n",
    "X_train = np.array(train_data['distance'])\n",
    "Y_train = np.array(train_data['node_position'])"
   ]
  },
  {
   "cell_type": "markdown",
   "metadata": {},
   "source": [
    "# Validation data load"
   ]
  },
  {
   "cell_type": "code",
   "execution_count": 18,
   "metadata": {},
   "outputs": [],
   "source": [
    "N_node=4\n",
    "Bound=1\n",
    "N=math.comb(N_node,2)\n",
    "\n",
    "validation_data =h5py.File('./validationset.mat','r')\n",
    "X_validation = np.array(validation_data['distance'])\n",
    "Y_validation = np.array(validation_data['node_position'])"
   ]
  },
  {
   "cell_type": "markdown",
   "metadata": {},
   "source": [
    "# Train"
   ]
  },
  {
   "cell_type": "code",
   "execution_count": 1,
   "metadata": {},
   "outputs": [
    {
     "ename": "NameError",
     "evalue": "name 'Input' is not defined",
     "output_type": "error",
     "traceback": [
      "\u001b[1;31m---------------------------------------------------------------------------\u001b[0m",
      "\u001b[1;31mNameError\u001b[0m                                 Traceback (most recent call last)",
      "\u001b[1;32md:\\MS\\LIG NEX1) 측위\\Research\\Data\\Dynamic\\Train_initial_dynamic_230904.ipynb Cell 12\u001b[0m line \u001b[0;36m9\n\u001b[0;32m      <a href='vscode-notebook-cell:/d%3A/MS/LIG%20NEX1%29%20%EC%B8%A1%EC%9C%84/Research/Data/Dynamic/Train_initial_dynamic_230904.ipynb#X14sZmlsZQ%3D%3D?line=5'>6</a>\u001b[0m \u001b[39mfrom\u001b[39;00m \u001b[39mtensorflow\u001b[39;00m\u001b[39m.\u001b[39;00m\u001b[39mkeras\u001b[39;00m\u001b[39m.\u001b[39;00m\u001b[39mlayers\u001b[39;00m \u001b[39mimport\u001b[39;00m Activation\n\u001b[0;32m      <a href='vscode-notebook-cell:/d%3A/MS/LIG%20NEX1%29%20%EC%B8%A1%EC%9C%84/Research/Data/Dynamic/Train_initial_dynamic_230904.ipynb#X14sZmlsZQ%3D%3D?line=6'>7</a>\u001b[0m \u001b[39mfrom\u001b[39;00m \u001b[39mtensorflow\u001b[39;00m\u001b[39m.\u001b[39;00m\u001b[39mkeras\u001b[39;00m\u001b[39m.\u001b[39;00m\u001b[39mlayers\u001b[39;00m \u001b[39mimport\u001b[39;00m Dropout\n\u001b[1;32m----> <a href='vscode-notebook-cell:/d%3A/MS/LIG%20NEX1%29%20%EC%B8%A1%EC%9C%84/Research/Data/Dynamic/Train_initial_dynamic_230904.ipynb#X14sZmlsZQ%3D%3D?line=8'>9</a>\u001b[0m input_ \u001b[39m=\u001b[39m Input(shape\u001b[39m=\u001b[39m(X_train_re\u001b[39m.\u001b[39mshape[\u001b[39m1\u001b[39m],))\n\u001b[0;32m     <a href='vscode-notebook-cell:/d%3A/MS/LIG%20NEX1%29%20%EC%B8%A1%EC%9C%84/Research/Data/Dynamic/Train_initial_dynamic_230904.ipynb#X14sZmlsZQ%3D%3D?line=10'>11</a>\u001b[0m c \u001b[39m=\u001b[39m Dense(\u001b[39m512\u001b[39m, input_shape\u001b[39m=\u001b[39m(X_train_re\u001b[39m.\u001b[39mshape[\u001b[39m1\u001b[39m],)) (input_)\n\u001b[0;32m     <a href='vscode-notebook-cell:/d%3A/MS/LIG%20NEX1%29%20%EC%B8%A1%EC%9C%84/Research/Data/Dynamic/Train_initial_dynamic_230904.ipynb#X14sZmlsZQ%3D%3D?line=11'>12</a>\u001b[0m c \u001b[39m=\u001b[39m Activation(\u001b[39m'\u001b[39m\u001b[39mReLU\u001b[39m\u001b[39m'\u001b[39m) (c)\n",
      "\u001b[1;31mNameError\u001b[0m: name 'Input' is not defined"
     ]
    }
   ],
   "source": [
    "input_ = Input(shape=(X_train.shape[1],))\n",
    "\n",
    "c = Dense(32, input_shape=(X_train.shape[1],)) (input_)\n",
    "c = Activation('ReLU') (c)\n",
    "\n",
    "c = Dense(32) (c)\n",
    "c = Activation('ReLU') (c)\n",
    "\n",
    "output1 = Dense(1, name='output1')(c)\n",
    "output2 = Dense(1, name='output2')(c)\n",
    "output3 = Dense(1, name='output3')(c)\n",
    "output4 = Dense(1, name='output4')(c)\n",
    "output5 = Dense(1, name='output5')(c)\n",
    "output6 = Dense(1, name='output6')(c)\n",
    "output7 = Dense(1, name='output7')(c)\n",
    "\n",
    "model = Model(inputs=[input_],outputs=[output1, output2, output3, output4, output5, output6, output7])\n",
    "\n",
    "model.compile(loss='mse', \n",
    "              optimizer=Adagrad(learning_rate=0.01),\n",
    "              metrics=['mae'])\n",
    "\n",
    "model.summary()\n",
    "\n",
    "\n",
    "hist_model = model.fit(X_train, [Y_train[:,0],Y_train[:,1],Y_train[:,2],Y_train[:,3],Y_train[:,4],Y_train[:,5],Y_train[:,6], Y_train[:,8]], batch_size=128, epochs=10, validation_data = (X_validation, \n",
    "                [Y_validation[:,0],Y_validation[:,1],Y_validation[:,2],Y_validation[:,3],Y_validation[:,4],Y_validation[:,5],Y_validation[:,6]], Y_validation[:,7]))\n",
    "\n",
    "\n",
    "model.save('./model.h5') \n",
    "with open('./history.h5', 'wb') as file_pi: pickle.dump(hist_model.history, file_pi)\n",
    "\n",
    "\n",
    "plt.figure(figsize=(5, 5))\n",
    "plt.subplot(111)           \n",
    "\n",
    "plt.plot(hist_model.history['loss'],'r')\n",
    "plt.plot(hist_model.history['val_loss'],'b--')\n",
    "plt.legend(['Train','Validation'],fontsize = 15)\n",
    "plt.xlabel('epoch',fontsize = 20)\n",
    "plt.ylabel('Loss',fontsize = 20)\n",
    "\n",
    "fig = plt.gcf()"
   ]
  },
  {
   "cell_type": "code",
   "execution_count": null,
   "metadata": {},
   "outputs": [],
   "source": []
  }
 ],
 "metadata": {
  "kernelspec": {
   "display_name": "new",
   "language": "python",
   "name": "python3"
  },
  "language_info": {
   "codemirror_mode": {
    "name": "ipython",
    "version": 3
   },
   "file_extension": ".py",
   "mimetype": "text/x-python",
   "name": "python",
   "nbconvert_exporter": "python",
   "pygments_lexer": "ipython3",
   "version": "3.9.15"
  },
  "orig_nbformat": 4
 },
 "nbformat": 4,
 "nbformat_minor": 2
}
